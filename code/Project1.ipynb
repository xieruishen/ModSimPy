{
 "cells": [
  {
   "cell_type": "code",
   "execution_count": 1,
   "metadata": {
    "collapsed": true
   },
   "outputs": [],
   "source": [
    "%matplotlib qt5\n",
    "#%matplotlib notebook\n",
    "from modsim import *\n",
    "from pandas import read_html\n"
   ]
  },
  {
   "cell_type": "code",
   "execution_count": null,
   "metadata": {
    "collapsed": true
   },
   "outputs": [],
   "source": [
    "filename = 'data/returnedsalmonpopulation.html'\n",
    "tables = read_html(filename, header=1, index_col=0, decimal='M')"
   ]
  },
  {
   "cell_type": "code",
   "execution_count": null,
   "metadata": {
    "collapsed": true
   },
   "outputs": [],
   "source": [
    "table1 = tables[0]\n",
    "table1"
   ]
  },
  {
   "cell_type": "code",
   "execution_count": null,
   "metadata": {
    "collapsed": true
   },
   "outputs": [],
   "source": [
    "total = table1.Total\n",
    "hatched = table1.Harchery\n",
    "def plot_spawnerfish(table):\n",
    "    \"\"\"Plot Salmon hatched population estimates.\n",
    "    \n",
    "    table: DataFrame with columns 'hatched'\n",
    "    \"\"\"\n",
    "    \n",
    "    plot(hatched, '-', color='red', label='Total Hatched Spawner fish population')\n",
    "    \n",
    "    decorate(xlabel='Year',\n",
    "             ylabel='Hatched Salmon population (billion)')"
   ]
  },
  {
   "cell_type": "code",
   "execution_count": null,
   "metadata": {
    "collapsed": true
   },
   "outputs": [],
   "source": [
    "newfig()\n",
    "plot_spawnerfish(table1)"
   ]
  },
  {
   "cell_type": "code",
   "execution_count": null,
   "metadata": {
    "collapsed": true
   },
   "outputs": [],
   "source": [
    "def plot_estimates(table):\n",
    "    \"\"\"Plot Salmon population estimates.\n",
    "    \n",
    "    table: DataFrame with columns 'total'\n",
    "    \"\"\"\n",
    "    \n",
    "    plot(total, '-', color='darkblue', label='Total Returned Salmon Population')\n",
    "    \n",
    "    decorate(xlabel='Year',\n",
    "             ylabel='Salmon population (metric tons)')"
   ]
  },
  {
   "cell_type": "code",
   "execution_count": null,
   "metadata": {
    "collapsed": true
   },
   "outputs": [],
   "source": [
    "newfig()\n",
    "plot_estimates(table1)"
   ]
  },
  {
   "cell_type": "code",
   "execution_count": null,
   "metadata": {
    "collapsed": true
   },
   "outputs": [],
   "source": [
    "Atlantic_Salmon_population = System(pop0 = 781, price0 = 8, t0 = 1967, t_end = 2100)\n",
    "spawnerfish_survival_rate = 0.8\n",
    "salmon_death_rate = 0.38\n",
    "natural_growth_rate = 0.25"
   ]
  },
  {
   "cell_type": "code",
   "execution_count": null,
   "metadata": {
    "collapsed": true
   },
   "outputs": [],
   "source": [
    "def spawner_fish_change(system, s):\n",
    "    \"\"\"have more or less spawner fish.\n",
    "    \n",
    "    system: Salmon System object\n",
    "    n: the number of spawner fish the fish farming industry decide to input\n",
    "    \"\"\"\n",
    "    spawner_fish = s\n",
    "    system.pop0 += spawner_fish * spawnerfish_survival_rate "
   ]
  },
  {
   "cell_type": "code",
   "execution_count": null,
   "metadata": {
    "collapsed": true
   },
   "outputs": [],
   "source": [
    "def harvested_fish_change(system, h):\n",
    "    \"\"\"have more or less harvested fish.\n",
    "    \n",
    "    system: Salmon System object\n",
    "    n: the number of harvested fish the fish farming industry decide to output\n",
    "    \"\"\"\n",
    "    harvested_fish = h\n",
    "    system.pop0 -= harvested_fish"
   ]
  },
  {
   "cell_type": "code",
   "execution_count": null,
   "metadata": {
    "collapsed": true
   },
   "outputs": [],
   "source": [
    "def salmon_natural_growth(system):\n",
    "    system.pop0 += system.pop0 * natural_growth_rate\n",
    "    "
   ]
  },
  {
   "cell_type": "code",
   "execution_count": null,
   "metadata": {
    "collapsed": true
   },
   "outputs": [],
   "source": [
    "def step(system, p_illegalfishing, p_disease):\n",
    "    \"\"\"Simulate the given number of time steps.\n",
    "    \n",
    "    system: Salmon population system object\n",
    "    num_steps: number of time steps\n",
    "    p_illegalfishing: probability of the occurance of an illegal fishing activity\n",
    "    p_disease: probability of an unexpected natural disaster or disease\"\"\"\n",
    "    if flip(p_illegalfishing):\n",
    "        system.pop0 -= system.pop0 * 0.1\n",
    "    \n",
    "    if flip(p_disease):\n",
    "        system.pop0 -= system.pop0 * salmon_death_rate\n",
    "    return system.pop0\n",
    "\n",
    "def run_simulation_1year(system, p_illegalfishing, p_disease, s, h):\n",
    "    \"\"\"simulate all the changes that would happen to salmon population\"\"\"\n",
    "    spawner_fish_change(system, s)\n",
    "    harvested_fish_change(system, h)\n",
    "    salmon_natural_growth(system)\n",
    "    step(system, p_illegalfishing, p_disease)\n",
    "    return system.pop0\n",
    "\n",
    "\n",
    "def run_simulation_1timeserie(system, p_illegalfishing, p_disease, s, h):\n",
    "    \"\"\"simulate 1st timeserie\"\"\"\n",
    "    salmon1 = TimeSeries()\n",
    "    Atlantic_Salmon_population.pop0 = 781\n",
    "    salmon1[Atlantic_Salmon_population.t0] = Atlantic_Salmon_population.pop0\n",
    "    for t in linrange(Atlantic_Salmon_population.t0, Atlantic_Salmon_population.t_end):\n",
    "        salmon1[t+1] = run_simulation_1year(system, p_illegalfishing, p_disease, s, h)\n",
    "    Atlantic_Salmon_population.salmon1 = salmon1\n",
    "\n",
    "run_simulation_1timeserie(Atlantic_Salmon_population, 0.4, 0.6, 600, 200)\n"
   ]
  },
  {
   "cell_type": "code",
   "execution_count": null,
   "metadata": {
    "collapsed": true
   },
   "outputs": [],
   "source": [
    "def run_simulation_1timeserie(system, p_illegalfishing, p_disease, s, h):\n",
    "    \"\"\"simulate 2nd timeserie\"\"\"\n",
    "    salmon2 = TimeSeries()\n",
    "    Atlantic_Salmon_population.pop0 = 781\n",
    "    salmon2[Atlantic_Salmon_population.t0] = Atlantic_Salmon_population.pop0\n",
    "    for t in linrange(Atlantic_Salmon_population.t0, Atlantic_Salmon_population.t_end):\n",
    "        salmon2[t+1] = run_simulation_1year(system, p_illegalfishing, p_disease, s, h)\n",
    "    Atlantic_Salmon_population.salmon2 = salmon2\n",
    "\n",
    "run_simulation_1timeserie(Atlantic_Salmon_population, 0.4, 0.6, 600, 200)\n"
   ]
  },
  {
   "cell_type": "code",
   "execution_count": null,
   "metadata": {
    "collapsed": true
   },
   "outputs": [],
   "source": [
    "def run_simulation_1timeserie(system, p_illegalfishing, p_disease, s, h):\n",
    "    \"\"\"simulate 3rd timeserie\"\"\"\n",
    "    salmon3 = TimeSeries()\n",
    "    Atlantic_Salmon_population.pop0 = 781\n",
    "    salmon3[Atlantic_Salmon_population.t0] = Atlantic_Salmon_population.pop0\n",
    "    for t in linrange(Atlantic_Salmon_population.t0, Atlantic_Salmon_population.t_end):\n",
    "        salmon3[t+1] = run_simulation_1year(system, p_illegalfishing, p_disease, s, h)\n",
    "    Atlantic_Salmon_population.salmon3 = salmon3\n",
    "\n",
    "run_simulation_1timeserie(Atlantic_Salmon_population, 0.4, 0.6, 600, 200)\n"
   ]
  },
  {
   "cell_type": "code",
   "execution_count": null,
   "metadata": {
    "collapsed": true
   },
   "outputs": [],
   "source": [
    "salmon_average = TimeSeries()\n",
    "Atlantic_Salmon_population.salmon_average = salmon_average = (Atlantic_Salmon_population.salmon1 + Atlantic_Salmon_population.salmon2 + Atlantic_Salmon_population.salmon3)/3\n",
    "salmon_average\n",
    "newfig()\n",
    "plot(total, '-', color='darkblue', label='Raw data')\n",
    "plot(salmon_average, '-', color='red', label='model')\n",
    "def decorate():\n",
    "    \"\"\"Add a legend and label the axes.\n",
    "    \"\"\"\n",
    "    legend(loc='best')\n",
    "    label_axes(title='Returned Salmon Population Over Time',\n",
    "               xlabel='Year', \n",
    "               ylabel='Salmon Population')\n",
    "decorate()"
   ]
  },
  {
   "cell_type": "code",
   "execution_count": null,
   "metadata": {
    "collapsed": true
   },
   "outputs": [],
   "source": [
    "price = TimeSeries()\n",
    "price[Atlantic_Salmon_population.t0] = Atlantic_Salmon_population.price0\n",
    "for t in linrange(Atlantic_Salmon_population.t0, Atlantic_Salmon_population.t_end):\n",
    "    price[t+1] = price[t]*(salmon_average[t]/salmon_average[t+1])\n",
    "Atlantic_Salmon_population.price = price\n",
    "newfig()\n",
    "plot(Atlantic_Salmon_population.price, '-', color='red', label='model')\n",
    "def decorate():\n",
    "    \"\"\"Add a legend and label the axes.\n",
    "    \"\"\"\n",
    "    legend(loc='best')\n",
    "    label_axes(title='Salmon Price Over Time',\n",
    "               xlabel='Year', \n",
    "               ylabel='Salmon Price(US Dollar per Kilogram)')\n",
    "decorate()"
   ]
  },
  {
   "cell_type": "code",
   "execution_count": null,
   "metadata": {
    "collapsed": true
   },
   "outputs": [],
   "source": [
    "def populationchange_time(system):\n",
    "    derivative = TimeSeries()\n",
    "    derivative[system.t0] = 0\n",
    "    for t in linrange(Atlantic_Salmon_population.t0, Atlantic_Salmon_population.t_end):\n",
    "        derivative[t+1] = salmon_average[t+1] - salmon_average[t]\n",
    "    Atlantic_Salmon_population.derivative = derivative\n",
    "populationchange_time(Atlantic_Salmon_population)\n",
    "newfig()\n",
    "plot(Atlantic_Salmon_population.salmon_average.values, Atlantic_Salmon_population.derivative.values, 'rs', label = 'net growth rate')\n",
    "Atlantic_Salmon_population.derivative\n",
    "def decorate():\n",
    "    \"\"\"Add a legend and label the axes.\n",
    "    \"\"\"\n",
    "    legend(loc='best')\n",
    "    label_axes(title='Returned Salmon Population Carrying Capacity',\n",
    "               xlabel='Returned Salmon Population', \n",
    "               ylabel='Returned Salmon Population Net Growth')\n",
    "decorate()"
   ]
  },
  {
   "cell_type": "code",
   "execution_count": null,
   "metadata": {
    "collapsed": true
   },
   "outputs": [],
   "source": [
    "p_array1 = linspace(0,1,100)\n",
    "def parameter_sweep_p_illegalfishing(array):\n",
    "    salmon_parametersweep = System(pop0 = 781)\n",
    "    for p_illegalfishing in array:\n",
    "        salmonpop = run_simulation_1year(salmon_parametersweep, p_illegalfishing, 0.6, 500, 200)\n",
    "        plot(p_illegalfishing, salmonpop, 'bs:', label='Ilegal Fishing Activity')\n",
    "newfig()\n",
    "parameter_sweep_p_illegalfishing(p_array1)\n",
    "def decorate():\n",
    "    \"\"\"Add a legend and label the axes.\n",
    "    \"\"\"\n",
    "    legend(loc='best')\n",
    "    label_axes(title='Returned Salmon Population Over Probability of Ilegal Fishing Activity',\n",
    "               xlabel='Probability of Ilegal Fishing Activity', \n",
    "               ylabel='Returned Salmon Population')\n",
    "decorate()"
   ]
  },
  {
   "cell_type": "code",
   "execution_count": null,
   "metadata": {
    "collapsed": true
   },
   "outputs": [],
   "source": [
    "p_array1 = linspace(0,1,60)\n",
    "def parameter_sweep_p_disease(array):\n",
    "    salmon_parametersweep = System(pop0 = 781)\n",
    "    for p_disease in array:\n",
    "        salmonpop = run_simulation_1year(salmon_parametersweep, 0.4, p_disease, 600, 200)\n",
    "        plot(p_disease, salmonpop, 'go-', label='Natural Disaster and Disease')\n",
    "newfig()\n",
    "parameter_sweep_p_disease(p_array1)\n",
    "def decorate():\n",
    "    \"\"\"Add a legend and label the axes.\n",
    "    \"\"\"\n",
    "    legend(loc='best')\n",
    "    label_axes(title='Returned Salmon Population Over Probability of Natural Disaster and Disease',\n",
    "               xlabel='Probability of Natural Disaster and Disease', \n",
    "               ylabel='Returned Salmon Population')\n",
    "decorate()"
   ]
  },
  {
   "cell_type": "code",
   "execution_count": null,
   "metadata": {
    "collapsed": true
   },
   "outputs": [],
   "source": [
    "def parameter_sweep_harvested(number):\n",
    "    salmon_parametersweep = System(pop0 = 781)\n",
    "    for h in range(number):\n",
    "        Salmonpopulation =  run_simulation_1year(salmon_parametersweep, 0.4, 0.6, 600, h)\n",
    "        plot(h, Salmonpopulation, 'bs:', label='Output Harvested Fish')\n",
    "\n",
    "def parameter_sweep_spawner(number):\n",
    "    salmon_parametersweep = System(pop0 = 781)\n",
    "    for s in range(number):\n",
    "        Salmonpopulation = run_simulation_1year(salmon_parametersweep, 0.4, 0.6, s, 200)\n",
    "        plot(s, Salmonpopulation, 'rs-', label='Input Spawner Fish Population')\n",
    "newfig()\n",
    "parameter_sweep_spawner(700)\n",
    "parameter_sweep_harvested(700)\n",
    "def decorate():\n",
    "    \"\"\"Add a legend and label the axes.\n",
    "    \"\"\"\n",
    "    legend(loc='best')\n",
    "    label_axes(title='Returned Population with Salmon Farming',\n",
    "               xlabel='Salmon Farming Production', \n",
    "               ylabel='Returned Salmon Population')\n",
    "decorate()"
   ]
  },
  {
   "cell_type": "code",
   "execution_count": null,
   "metadata": {
    "collapsed": true
   },
   "outputs": [],
   "source": [
    "savefig('parametersweepfarming2.png')"
   ]
  },
  {
   "cell_type": "code",
   "execution_count": null,
   "metadata": {
    "collapsed": true
   },
   "outputs": [],
   "source": []
  },
  {
   "cell_type": "code",
   "execution_count": null,
   "metadata": {
    "collapsed": true
   },
   "outputs": [],
   "source": []
  },
  {
   "cell_type": "code",
   "execution_count": null,
   "metadata": {
    "collapsed": true
   },
   "outputs": [],
   "source": []
  }
 ],
 "metadata": {
  "kernelspec": {
   "display_name": "VPython",
   "language": "python",
   "name": "vpython"
  },
  "language_info": {
   "codemirror_mode": {
    "name": "ipython",
    "version": 3
   },
   "file_extension": ".py",
   "mimetype": "text/x-python",
   "name": "python",
   "nbconvert_exporter": "python",
   "pygments_lexer": "ipython3",
   "version": "3.6.1"
  }
 },
 "nbformat": 4,
 "nbformat_minor": 2
}
