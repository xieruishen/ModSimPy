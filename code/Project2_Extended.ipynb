{
 "cells": [
  {
   "cell_type": "code",
   "execution_count": null,
   "metadata": {
    "collapsed": true
   },
   "outputs": [],
   "source": [
    "def update2(state, system):\n",
    "    \"\"\"Update the SIR model.\n",
    "    \n",
    "    state: State (s, i, r)\n",
    "    system: System object\n",
    "    \n",
    "    returns: State (sir)\n",
    "    \"\"\"\n",
    "    unpack(system)\n",
    "    s, i, r = state\n",
    "\n",
    "    infected = beta * i * s\n",
    "    recovered = gamma * i\n",
    "    mutated = recovered * 0.1\n",
    "    \n",
    "    s = s - infected + mutated\n",
    "    i += infected\n",
    "    r = r + recovered - mutated\n",
    "    \n",
    "    return State(S=s, I=i, R=r)"
   ]
  }
 ],
 "metadata": {
  "kernelspec": {
   "display_name": "VPython",
   "language": "python",
   "name": "vpython"
  },
  "language_info": {
   "codemirror_mode": {
    "name": "ipython",
    "version": 3
   },
   "file_extension": ".py",
   "mimetype": "text/x-python",
   "name": "python",
   "nbconvert_exporter": "python",
   "pygments_lexer": "ipython3",
   "version": "3.6.1"
  }
 },
 "nbformat": 4,
 "nbformat_minor": 2
}
